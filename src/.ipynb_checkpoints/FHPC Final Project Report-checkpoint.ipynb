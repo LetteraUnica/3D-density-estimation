{
 "cells": [
  {
   "cell_type": "markdown",
   "id": "0a33a978-c3a7-4230-aac6-3b2f9d454ca3",
   "metadata": {},
   "source": [
    "# How to compile\n",
    "The code can be compiled by running `./compile` or `sh compile`.  \n",
    "The script will produce 3 executables:  \n",
    "1. `density_omp.x` Is the OpenMP version of the code  \n",
    "2. `density_mpi.x` Is the MPI version of the code  \n",
    "3. `density` The MPI version of the code, just named differently  \n",
    "These executables when run correctly will produce as output a file named density.bin which is the 3D density matrix of the point distribution.  \n",
    "\n",
    "Note: The script will probably trigger some warnings, however these could be safely ignored, they are caused by compiling pragmas without openmp or comparing different integer types.\n",
    "\n",
    "\n",
    "# Performance evaluation\n",
    "## Introduction\n",
    "The OpenMP code was compiled with GCC version 10.3.0 while the MPI code was compiled with MPICH version 3.3.2\n",
    "\n",
    "I tested the code using 4 MPI processes for the MPI version and 4 omp threads for the OpenMP version, this number corresponds to the number of physical threads of my CPU, an Intel(R) Core(TM) i5-4690 CPU @ 3.50GHz\n",
    "\n",
    "## Elapsed time per n points\n",
    "I fixed the grid number to $N=512$, the radius to $R=1/n^{1/3}$ and I varied the number of points from $10^6$ to $10^7$\n",
    "\n",
    "![](n_points_linear.png)\n",
    "\n",
    "We can see that the elapsed time scales linearly with the number of points, this is expected because we didn't use a brute force approach but we only check the grid points that are close to a certain point. The overall complexity of this algorithm, without counting communication and I/O, is $\\Theta(N^3 R^3 n)$, since $R=1/n^{1/3}$ we should have $\\Theta(N^3)$ which is a constant. However this doesn't account for the time to read the input file and the time to communicate the points around, which are both operations that scale with $\\Theta(n)$. So we improve the speed of the algorithm but it is still linear in the number of points.\n",
    "\n",
    "## Elapsed time per grid number\n",
    "I fixed the radius to $R=0.05$, the number of points to $n=2^{20} \\approx 10^{6}$ and I varied the grid number from $16$ to $256$\n",
    "\n",
    "![](grid_number_linear.png)\n",
    "\n",
    "We can see that the elapsed time scales with the cube of the grid number, as expected.\n",
    "The green line represents a fitted polynomial of degree 3  \n",
    "\n",
    "## Comments on MPI vs OpenMP\n",
    "MPI is faster than OpenMP in these tests, this could be caused by the fact that the OpenMP program doesn't parallelize the I/O operations while the MPI program does, this could also be seen in the elapsed time per grid number graph, where the OpenMP program is faster than the MPI version up until $N\\sim 80$, while for $N > 80$ the MPI version is faster"
   ]
  }
 ],
 "metadata": {
  "kernelspec": {
   "display_name": "Python 3.8.11 64-bit ('base': conda)",
   "language": "python",
   "name": "python3811jvsc74a57bd0826ac774da20863171be87f505c983a23ca5099031a67b4f2c0e4fe6baa8958e"
  },
  "language_info": {
   "codemirror_mode": {
    "name": "ipython",
    "version": 3
   },
   "file_extension": ".py",
   "mimetype": "text/x-python",
   "name": "python",
   "nbconvert_exporter": "python",
   "pygments_lexer": "ipython3",
   "version": "3.8.11"
  }
 },
 "nbformat": 4,
 "nbformat_minor": 5
}
