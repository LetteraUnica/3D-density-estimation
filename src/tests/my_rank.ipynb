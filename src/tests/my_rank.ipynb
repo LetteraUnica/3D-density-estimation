{
 "cells": [
  {
   "cell_type": "code",
   "execution_count": 35,
   "source": [
    "my_rank = list(range(4))\n",
    "n_processors = 4\n",
    "N = 67\n",
    "\n",
    "for rank in my_rank:\n",
    "    start = N // n_processors * rank + min(N % n_processors, rank)\n",
    "    Nx = N // n_processors + (int)((N % n_processors) > rank)\n",
    "    print(start, start + Nx, Nx)\n"
   ],
   "outputs": [
    {
     "output_type": "stream",
     "name": "stdout",
     "text": [
      "0 17 17\n",
      "17 34 17\n",
      "34 51 17\n",
      "51 67 16\n"
     ]
    }
   ],
   "metadata": {}
  },
  {
   "cell_type": "code",
   "execution_count": 12,
   "source": [
    "5*0.25"
   ],
   "outputs": [
    {
     "output_type": "execute_result",
     "data": {
      "text/plain": [
       "1.25"
      ]
     },
     "metadata": {},
     "execution_count": 12
    }
   ],
   "metadata": {}
  },
  {
   "cell_type": "code",
   "execution_count": 34,
   "source": [
    "def get_cell(x):\n",
    "    return (int)(N*x)\n",
    "\n",
    "\n",
    "N = 10\n",
    "\n",
    "get_cell(1)"
   ],
   "outputs": [
    {
     "output_type": "execute_result",
     "data": {
      "text/plain": [
       "10"
      ]
     },
     "metadata": {},
     "execution_count": 34
    }
   ],
   "metadata": {}
  }
 ],
 "metadata": {
  "orig_nbformat": 4,
  "language_info": {
   "name": "python",
   "version": "3.8.11",
   "mimetype": "text/x-python",
   "codemirror_mode": {
    "name": "ipython",
    "version": 3
   },
   "pygments_lexer": "ipython3",
   "nbconvert_exporter": "python",
   "file_extension": ".py"
  },
  "kernelspec": {
   "name": "python3",
   "display_name": "Python 3.8.11 64-bit ('base': conda)"
  },
  "interpreter": {
   "hash": "826ac774da20863171be87f505c983a23ca5099031a67b4f2c0e4fe6baa8958e"
  }
 },
 "nbformat": 4,
 "nbformat_minor": 2
}