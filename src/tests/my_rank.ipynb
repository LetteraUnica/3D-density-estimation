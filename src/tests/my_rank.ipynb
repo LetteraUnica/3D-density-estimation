{
 "cells": [
  {
   "cell_type": "code",
   "execution_count": 24,
   "metadata": {},
   "outputs": [
    {
     "data": {
      "text/plain": [
       "2"
      ]
     },
     "execution_count": 24,
     "metadata": {},
     "output_type": "execute_result"
    }
   ],
   "source": [
    "def get_cell(x, N):\n",
    "    return (int)(N*x)\n",
    "\n",
    "def get_point(Nx, N):\n",
    "    return (Nx + 0.5) / N\n",
    "\n",
    "\n",
    "def low_bound(x, N):\n",
    "    Nx = get_cell(x, N)\n",
    "    point = get_point(Nx, N)\n",
    "\n",
    "    if point > x:\n",
    "        res = Nx\n",
    "    else:\n",
    "        res = Nx + 1\n",
    "\n",
    "    return res\n",
    "\n",
    "N = 5\n",
    "\n",
    "low_bound(0.31, N)"
   ]
  }
 ],
 "metadata": {
  "interpreter": {
   "hash": "826ac774da20863171be87f505c983a23ca5099031a67b4f2c0e4fe6baa8958e"
  },
  "kernelspec": {
   "display_name": "Python 3.8.11 64-bit ('base': conda)",
   "name": "python3"
  },
  "language_info": {
   "codemirror_mode": {
    "name": "ipython",
    "version": 3
   },
   "file_extension": ".py",
   "mimetype": "text/x-python",
   "name": "python",
   "nbconvert_exporter": "python",
   "pygments_lexer": "ipython3",
   "version": "3.8.11"
  },
  "orig_nbformat": 4
 },
 "nbformat": 4,
 "nbformat_minor": 2
}
